{
 "cells": [
  {
   "cell_type": "markdown",
   "source": [
    "# Bibliotecas"
   ],
   "metadata": {
    "collapsed": false
   }
  },
  {
   "cell_type": "code",
   "execution_count": 2,
   "outputs": [
    {
     "name": "stdout",
     "output_type": "stream",
     "text": [
      "Defaulting to user installation because normal site-packages is not writeable\n",
      "Requirement already satisfied: plotly in c:\\users\\las2\\appdata\\roaming\\python\\python39\\site-packages (5.11.0)\n",
      "Requirement already satisfied: tenacity>=6.2.0 in c:\\programdata\\anaconda3\\lib\\site-packages (from plotly) (8.0.1)\n"
     ]
    }
   ],
   "source": [
    "!pip install plotly --upgrade"
   ],
   "metadata": {
    "collapsed": false
   }
  },
  {
   "cell_type": "code",
   "execution_count": 3,
   "outputs": [],
   "source": [
    "import pandas as pd\n",
    "import numpy as np\n",
    "import seaborn as sns\n",
    "import matplotlib.pyplot as plt\n",
    "import plotly.express as px"
   ],
   "metadata": {
    "collapsed": false
   }
  },
  {
   "cell_type": "markdown",
   "source": [
    "# Database Credit"
   ],
   "metadata": {
    "collapsed": false
   }
  },
  {
   "cell_type": "code",
   "execution_count": 4,
   "outputs": [],
   "source": [
    "base_credit = pd.read_csv('data/credit_data.csv')"
   ],
   "metadata": {
    "collapsed": false
   }
  },
  {
   "cell_type": "code",
   "execution_count": 8,
   "outputs": [
    {
     "data": {
      "text/plain": "   clientid        income        age         loan  default\n0         1  66155.925095  59.017015  8106.532131        0\n1         2  34415.153966  48.117153  6564.745018        0\n2         3  57317.170063  63.108049  8020.953296        0\n3         4  42709.534201  45.751972  6103.642260        0\n4         5  66952.688845  18.584336  8770.099235        1",
      "text/html": "<div>\n<style scoped>\n    .dataframe tbody tr th:only-of-type {\n        vertical-align: middle;\n    }\n\n    .dataframe tbody tr th {\n        vertical-align: top;\n    }\n\n    .dataframe thead th {\n        text-align: right;\n    }\n</style>\n<table border=\"1\" class=\"dataframe\">\n  <thead>\n    <tr style=\"text-align: right;\">\n      <th></th>\n      <th>clientid</th>\n      <th>income</th>\n      <th>age</th>\n      <th>loan</th>\n      <th>default</th>\n    </tr>\n  </thead>\n  <tbody>\n    <tr>\n      <th>0</th>\n      <td>1</td>\n      <td>66155.925095</td>\n      <td>59.017015</td>\n      <td>8106.532131</td>\n      <td>0</td>\n    </tr>\n    <tr>\n      <th>1</th>\n      <td>2</td>\n      <td>34415.153966</td>\n      <td>48.117153</td>\n      <td>6564.745018</td>\n      <td>0</td>\n    </tr>\n    <tr>\n      <th>2</th>\n      <td>3</td>\n      <td>57317.170063</td>\n      <td>63.108049</td>\n      <td>8020.953296</td>\n      <td>0</td>\n    </tr>\n    <tr>\n      <th>3</th>\n      <td>4</td>\n      <td>42709.534201</td>\n      <td>45.751972</td>\n      <td>6103.642260</td>\n      <td>0</td>\n    </tr>\n    <tr>\n      <th>4</th>\n      <td>5</td>\n      <td>66952.688845</td>\n      <td>18.584336</td>\n      <td>8770.099235</td>\n      <td>1</td>\n    </tr>\n  </tbody>\n</table>\n</div>"
     },
     "execution_count": 8,
     "metadata": {},
     "output_type": "execute_result"
    }
   ],
   "source": [
    "base_credit.head()"
   ],
   "metadata": {
    "collapsed": false
   }
  },
  {
   "cell_type": "code",
   "execution_count": 9,
   "outputs": [
    {
     "data": {
      "text/plain": "      clientid        income        age         loan  default\n1995      1996  59221.044874  48.518179  1926.729397        0\n1996      1997  69516.127573  23.162104  3503.176156        0\n1997      1998  44311.449262  28.017167  5522.786693        1\n1998      1999  43756.056605  63.971796  1622.722598        0\n1999      2000  69436.579552  56.152617  7378.833599        0",
      "text/html": "<div>\n<style scoped>\n    .dataframe tbody tr th:only-of-type {\n        vertical-align: middle;\n    }\n\n    .dataframe tbody tr th {\n        vertical-align: top;\n    }\n\n    .dataframe thead th {\n        text-align: right;\n    }\n</style>\n<table border=\"1\" class=\"dataframe\">\n  <thead>\n    <tr style=\"text-align: right;\">\n      <th></th>\n      <th>clientid</th>\n      <th>income</th>\n      <th>age</th>\n      <th>loan</th>\n      <th>default</th>\n    </tr>\n  </thead>\n  <tbody>\n    <tr>\n      <th>1995</th>\n      <td>1996</td>\n      <td>59221.044874</td>\n      <td>48.518179</td>\n      <td>1926.729397</td>\n      <td>0</td>\n    </tr>\n    <tr>\n      <th>1996</th>\n      <td>1997</td>\n      <td>69516.127573</td>\n      <td>23.162104</td>\n      <td>3503.176156</td>\n      <td>0</td>\n    </tr>\n    <tr>\n      <th>1997</th>\n      <td>1998</td>\n      <td>44311.449262</td>\n      <td>28.017167</td>\n      <td>5522.786693</td>\n      <td>1</td>\n    </tr>\n    <tr>\n      <th>1998</th>\n      <td>1999</td>\n      <td>43756.056605</td>\n      <td>63.971796</td>\n      <td>1622.722598</td>\n      <td>0</td>\n    </tr>\n    <tr>\n      <th>1999</th>\n      <td>2000</td>\n      <td>69436.579552</td>\n      <td>56.152617</td>\n      <td>7378.833599</td>\n      <td>0</td>\n    </tr>\n  </tbody>\n</table>\n</div>"
     },
     "execution_count": 9,
     "metadata": {},
     "output_type": "execute_result"
    }
   ],
   "source": [
    "base_credit.tail()"
   ],
   "metadata": {
    "collapsed": false
   }
  },
  {
   "cell_type": "code",
   "execution_count": 10,
   "outputs": [
    {
     "data": {
      "text/plain": "          clientid        income          age          loan      default\ncount  2000.000000   2000.000000  1997.000000   2000.000000  2000.000000\nmean   1000.500000  45331.600018    40.807559   4444.369695     0.141500\nstd     577.494589  14326.327119    13.624469   3045.410024     0.348624\nmin       1.000000  20014.489470   -52.423280      1.377630     0.000000\n25%     500.750000  32796.459717    28.990415   1939.708847     0.000000\n50%    1000.500000  45789.117313    41.317159   3974.719419     0.000000\n75%    1500.250000  57791.281668    52.587040   6432.410625     0.000000\nmax    2000.000000  69995.685578    63.971796  13766.051239     1.000000",
      "text/html": "<div>\n<style scoped>\n    .dataframe tbody tr th:only-of-type {\n        vertical-align: middle;\n    }\n\n    .dataframe tbody tr th {\n        vertical-align: top;\n    }\n\n    .dataframe thead th {\n        text-align: right;\n    }\n</style>\n<table border=\"1\" class=\"dataframe\">\n  <thead>\n    <tr style=\"text-align: right;\">\n      <th></th>\n      <th>clientid</th>\n      <th>income</th>\n      <th>age</th>\n      <th>loan</th>\n      <th>default</th>\n    </tr>\n  </thead>\n  <tbody>\n    <tr>\n      <th>count</th>\n      <td>2000.000000</td>\n      <td>2000.000000</td>\n      <td>1997.000000</td>\n      <td>2000.000000</td>\n      <td>2000.000000</td>\n    </tr>\n    <tr>\n      <th>mean</th>\n      <td>1000.500000</td>\n      <td>45331.600018</td>\n      <td>40.807559</td>\n      <td>4444.369695</td>\n      <td>0.141500</td>\n    </tr>\n    <tr>\n      <th>std</th>\n      <td>577.494589</td>\n      <td>14326.327119</td>\n      <td>13.624469</td>\n      <td>3045.410024</td>\n      <td>0.348624</td>\n    </tr>\n    <tr>\n      <th>min</th>\n      <td>1.000000</td>\n      <td>20014.489470</td>\n      <td>-52.423280</td>\n      <td>1.377630</td>\n      <td>0.000000</td>\n    </tr>\n    <tr>\n      <th>25%</th>\n      <td>500.750000</td>\n      <td>32796.459717</td>\n      <td>28.990415</td>\n      <td>1939.708847</td>\n      <td>0.000000</td>\n    </tr>\n    <tr>\n      <th>50%</th>\n      <td>1000.500000</td>\n      <td>45789.117313</td>\n      <td>41.317159</td>\n      <td>3974.719419</td>\n      <td>0.000000</td>\n    </tr>\n    <tr>\n      <th>75%</th>\n      <td>1500.250000</td>\n      <td>57791.281668</td>\n      <td>52.587040</td>\n      <td>6432.410625</td>\n      <td>0.000000</td>\n    </tr>\n    <tr>\n      <th>max</th>\n      <td>2000.000000</td>\n      <td>69995.685578</td>\n      <td>63.971796</td>\n      <td>13766.051239</td>\n      <td>1.000000</td>\n    </tr>\n  </tbody>\n</table>\n</div>"
     },
     "execution_count": 10,
     "metadata": {},
     "output_type": "execute_result"
    }
   ],
   "source": [
    "base_credit.describe()"
   ],
   "metadata": {
    "collapsed": false
   }
  },
  {
   "cell_type": "code",
   "execution_count": 12,
   "outputs": [
    {
     "data": {
      "text/plain": "     clientid        income        age         loan  default\n422       423  69995.685578  52.719673  2084.370861        0",
      "text/html": "<div>\n<style scoped>\n    .dataframe tbody tr th:only-of-type {\n        vertical-align: middle;\n    }\n\n    .dataframe tbody tr th {\n        vertical-align: top;\n    }\n\n    .dataframe thead th {\n        text-align: right;\n    }\n</style>\n<table border=\"1\" class=\"dataframe\">\n  <thead>\n    <tr style=\"text-align: right;\">\n      <th></th>\n      <th>clientid</th>\n      <th>income</th>\n      <th>age</th>\n      <th>loan</th>\n      <th>default</th>\n    </tr>\n  </thead>\n  <tbody>\n    <tr>\n      <th>422</th>\n      <td>423</td>\n      <td>69995.685578</td>\n      <td>52.719673</td>\n      <td>2084.370861</td>\n      <td>0</td>\n    </tr>\n  </tbody>\n</table>\n</div>"
     },
     "execution_count": 12,
     "metadata": {},
     "output_type": "execute_result"
    }
   ],
   "source": [
    "base_credit[base_credit.income >= 69995.685578]"
   ],
   "metadata": {
    "collapsed": false
   }
  },
  {
   "cell_type": "code",
   "execution_count": 13,
   "outputs": [
    {
     "data": {
      "text/plain": "     clientid        income        age     loan  default\n865       866  28072.604355  54.142548  1.37763        0",
      "text/html": "<div>\n<style scoped>\n    .dataframe tbody tr th:only-of-type {\n        vertical-align: middle;\n    }\n\n    .dataframe tbody tr th {\n        vertical-align: top;\n    }\n\n    .dataframe thead th {\n        text-align: right;\n    }\n</style>\n<table border=\"1\" class=\"dataframe\">\n  <thead>\n    <tr style=\"text-align: right;\">\n      <th></th>\n      <th>clientid</th>\n      <th>income</th>\n      <th>age</th>\n      <th>loan</th>\n      <th>default</th>\n    </tr>\n  </thead>\n  <tbody>\n    <tr>\n      <th>865</th>\n      <td>866</td>\n      <td>28072.604355</td>\n      <td>54.142548</td>\n      <td>1.37763</td>\n      <td>0</td>\n    </tr>\n  </tbody>\n</table>\n</div>"
     },
     "execution_count": 13,
     "metadata": {},
     "output_type": "execute_result"
    }
   ],
   "source": [
    "base_credit[base_credit.loan <= 1.377630]"
   ],
   "metadata": {
    "collapsed": false
   }
  },
  {
   "cell_type": "code",
   "execution_count": null,
   "outputs": [],
   "source": [],
   "metadata": {
    "collapsed": false
   }
  }
 ],
 "metadata": {
  "kernelspec": {
   "display_name": "Python 3",
   "language": "python",
   "name": "python3"
  },
  "language_info": {
   "codemirror_mode": {
    "name": "ipython",
    "version": 2
   },
   "file_extension": ".py",
   "mimetype": "text/x-python",
   "name": "python",
   "nbconvert_exporter": "python",
   "pygments_lexer": "ipython2",
   "version": "2.7.6"
  }
 },
 "nbformat": 4,
 "nbformat_minor": 0
}
